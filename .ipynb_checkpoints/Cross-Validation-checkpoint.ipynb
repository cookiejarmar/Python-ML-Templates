{
 "cells": [
  {
   "cell_type": "markdown",
   "metadata": {},
   "source": [
    "# Cross-Validation"
   ]
  },
  {
   "cell_type": "markdown",
   "metadata": {},
   "source": [
    "#### Sample KNN Model to demonstrate Cross-Validation techniques below"
   ]
  },
  {
   "cell_type": "code",
   "execution_count": 1,
   "metadata": {},
   "outputs": [
    {
     "name": "stdout",
     "output_type": "stream",
     "text": [
      "Base KNN Model \n",
      "\n",
      "     0    1\n",
      "0  113   36\n",
      "1   28  123       Accuracy: 0.787 \n",
      "\n",
      "             precision    recall  f1-score   support\n",
      "\n",
      "          0       0.80      0.76      0.78       149\n",
      "          1       0.77      0.81      0.79       151\n",
      "\n",
      "avg / total       0.79      0.79      0.79       300\n",
      "\n"
     ]
    }
   ],
   "source": [
    "import pandas as pd\n",
    "import numpy as np\n",
    "data = pd.read_csv(\"./Data Files/KNN_Test_File.csv\")\n",
    "X = data[['XVPM', 'GWYH', 'TRAT', 'TLLZ', 'IGGA', 'HYKR', 'EDFS', 'GUUB', 'MGJM', 'JHZC']]\n",
    "y = data[\"TARGET CLASS\"]\n",
    "from sklearn.model_selection import train_test_split\n",
    "X_train, X_test, y_train, y_test = train_test_split(X, y, test_size = 0.3, random_state = 1111)\n",
    "X_train_scaled = X_train.copy()\n",
    "X_test_scaled = X_test.copy()\n",
    "for i in X_train.columns:\n",
    "    if X_train[i].dtypes in [\"float64\", \"int64\"]:\n",
    "        m = X_train[i].mean()\n",
    "        s = X_train[i].std()\n",
    "        X_train_scaled[i] = (X_train[i] - m) / s\n",
    "        X_test_scaled[i] = (X_test[i] - m) / s\n",
    "from sklearn.neighbors import KNeighborsClassifier\n",
    "knn_model = KNeighborsClassifier(n_neighbors = 5)  # Can increase the number of neighbors\n",
    "knn_model.fit(X_train_scaled, y_train)\n",
    "y_pred = knn_model.predict(X_test_scaled)\n",
    "from sklearn.metrics import confusion_matrix, accuracy_score, classification_report\n",
    "print(\"Base KNN Model\", \"\\n\")\n",
    "print(pd.DataFrame(confusion_matrix(y_test, y_pred)), \n",
    "      \"      Accuracy:\", round(accuracy_score(y_test, y_pred), 3), \n",
    "      \"\\n\")\n",
    "print(classification_report(y_test, y_pred))"
   ]
  },
  {
   "cell_type": "markdown",
   "metadata": {},
   "source": [
    "#### Traiditional Cross-Validation for Model Validation"
   ]
  },
  {
   "cell_type": "code",
   "execution_count": 6,
   "metadata": {},
   "outputs": [
    {
     "name": "stdout",
     "output_type": "stream",
     "text": [
      "Cross Validation Results \n",
      "\n",
      "Avg. Accuracy: 0.8043\n"
     ]
    }
   ],
   "source": [
    "from sklearn.model_selection import cross_val_score\n",
    "\n",
    "cv_scores = cross_val_score(knn_model, X_train_scaled, y_train, \n",
    "                            cv = 5, scoring = \"accuracy\", n_jobs = -1)\n",
    "\n",
    "print(\"Cross Validation Results\", \"\\n\")\n",
    "print(\"Avg. Accuracy:\", round(cv_scores.mean(), 4))"
   ]
  },
  {
   "cell_type": "markdown",
   "metadata": {
    "collapsed": true
   },
   "source": [
    "#### Using Grid Search to tune parameters"
   ]
  },
  {
   "cell_type": "code",
   "execution_count": 8,
   "metadata": {},
   "outputs": [
    {
     "name": "stdout",
     "output_type": "stream",
     "text": [
      "Fitting 3 folds for each of 4 candidates, totalling 12 fits\n",
      "[CV] n_neighbors=5 ...................................................\n",
      "[CV] .................................... n_neighbors=5, total=   0.0s\n",
      "[CV] n_neighbors=5 ...................................................\n",
      "[CV] .................................... n_neighbors=5, total=   0.0s\n",
      "[CV] n_neighbors=5 ...................................................\n",
      "[CV] .................................... n_neighbors=5, total=   0.0s\n",
      "[CV] n_neighbors=10 ..................................................\n",
      "[CV] ................................... n_neighbors=10, total=   0.0s\n",
      "[CV] n_neighbors=10 ..................................................\n",
      "[CV] ................................... n_neighbors=10, total=   0.0s\n",
      "[CV] n_neighbors=10 ..................................................\n",
      "[CV] ................................... n_neighbors=10, total=   0.0s\n",
      "[CV] n_neighbors=15 ..................................................\n",
      "[CV] ................................... n_neighbors=15, total=   0.0s\n",
      "[CV] n_neighbors=15 ..................................................\n",
      "[CV] ................................... n_neighbors=15, total=   0.0s\n",
      "[CV] n_neighbors=15 ..................................................\n",
      "[CV] ................................... n_neighbors=15, total=   0.0s\n",
      "[CV] n_neighbors=20 ..................................................\n",
      "[CV] ................................... n_neighbors=20, total=   0.0s\n",
      "[CV] n_neighbors=20 ..................................................\n",
      "[CV] ................................... n_neighbors=20, total=   0.0s\n",
      "[CV] n_neighbors=20 ..................................................\n",
      "[CV] ................................... n_neighbors=20, total=   0.0s\n"
     ]
    },
    {
     "name": "stderr",
     "output_type": "stream",
     "text": [
      "[Parallel(n_jobs=1)]: Done   1 out of   1 | elapsed:    0.0s remaining:    0.0s\n",
      "[Parallel(n_jobs=1)]: Done  12 out of  12 | elapsed:    0.2s finished\n"
     ]
    },
    {
     "data": {
      "text/plain": [
       "GridSearchCV(cv=None, error_score='raise',\n",
       "       estimator=KNeighborsClassifier(algorithm='auto', leaf_size=30, metric='minkowski',\n",
       "           metric_params=None, n_jobs=1, n_neighbors=5, p=2,\n",
       "           weights='uniform'),\n",
       "       fit_params={}, iid=True, n_jobs=1,\n",
       "       param_grid={'n_neighbors': [5, 10, 15, 20]},\n",
       "       pre_dispatch='2*n_jobs', refit=True, return_train_score=True,\n",
       "       scoring=None, verbose=2)"
      ]
     },
     "execution_count": 8,
     "metadata": {},
     "output_type": "execute_result"
    }
   ],
   "source": [
    "from sklearn.model_selection import GridSearchCV\n",
    "parameters = {\"n_neighbors\": [5, 10, 15, 20]}  # Adjust these values over and over\n",
    "grid = GridSearchCV(knn_model, parameters, verbose = 2)\n",
    "grid.fit(X_train_scaled, y_train)"
   ]
  },
  {
   "cell_type": "code",
   "execution_count": 9,
   "metadata": {},
   "outputs": [
    {
     "data": {
      "text/plain": [
       "{'n_neighbors': 15}"
      ]
     },
     "execution_count": 9,
     "metadata": {},
     "output_type": "execute_result"
    }
   ],
   "source": [
    "grid.best_params_"
   ]
  },
  {
   "cell_type": "code",
   "execution_count": 12,
   "metadata": {},
   "outputs": [
    {
     "name": "stdout",
     "output_type": "stream",
     "text": [
      "Optimized KNN Model using Grid Search \n",
      "\n",
      "     0    1\n",
      "0  120   29\n",
      "1   26  125       Accuracy: 0.8167 \n",
      "\n",
      "             precision    recall  f1-score   support\n",
      "\n",
      "          0       0.82      0.81      0.81       149\n",
      "          1       0.81      0.83      0.82       151\n",
      "\n",
      "avg / total       0.82      0.82      0.82       300\n",
      "\n"
     ]
    }
   ],
   "source": [
    "grid_y_pred = grid.predict(X_test_scaled)\n",
    "print(\"Optimized KNN Model using Grid Search\", \"\\n\")\n",
    "print(pd.DataFrame(confusion_matrix(y_test, grid_y_pred)), \n",
    "      \"      Accuracy:\", round(accuracy_score(y_test, grid_y_pred), 4), \n",
    "      \"\\n\")\n",
    "print(classification_report(y_test, grid_y_pred))"
   ]
  },
  {
   "cell_type": "code",
   "execution_count": null,
   "metadata": {
    "collapsed": true
   },
   "outputs": [],
   "source": []
  }
 ],
 "metadata": {
  "kernelspec": {
   "display_name": "Python 3",
   "language": "python",
   "name": "python3"
  },
  "language_info": {
   "codemirror_mode": {
    "name": "ipython",
    "version": 3
   },
   "file_extension": ".py",
   "mimetype": "text/x-python",
   "name": "python",
   "nbconvert_exporter": "python",
   "pygments_lexer": "ipython3",
   "version": "3.6.0"
  }
 },
 "nbformat": 4,
 "nbformat_minor": 2
}
