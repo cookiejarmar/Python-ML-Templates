{
 "cells": [
  {
   "cell_type": "markdown",
   "metadata": {},
   "source": [
    "# Support Vector Regression"
   ]
  },
  {
   "cell_type": "markdown",
   "metadata": {},
   "source": [
    "#### Load the packages and import the data"
   ]
  },
  {
   "cell_type": "code",
   "execution_count": 2,
   "metadata": {
    "collapsed": false
   },
   "outputs": [
    {
     "data": {
      "text/html": [
       "<div>\n",
       "<table border=\"1\" class=\"dataframe\">\n",
       "  <thead>\n",
       "    <tr style=\"text-align: right;\">\n",
       "      <th></th>\n",
       "      <th>Avg. Area Income</th>\n",
       "      <th>Avg. Area House Age</th>\n",
       "      <th>Avg. Area Number of Rooms</th>\n",
       "      <th>Avg. Area Number of Bedrooms</th>\n",
       "      <th>Area Population</th>\n",
       "      <th>Price</th>\n",
       "      <th>Address</th>\n",
       "    </tr>\n",
       "  </thead>\n",
       "  <tbody>\n",
       "    <tr>\n",
       "      <th>0</th>\n",
       "      <td>79545.458574</td>\n",
       "      <td>5.682861</td>\n",
       "      <td>7.009188</td>\n",
       "      <td>4.09</td>\n",
       "      <td>23086.800503</td>\n",
       "      <td>1.059034e+06</td>\n",
       "      <td>208 Michael Ferry Apt. 674\\nLaurabury, NE 3701...</td>\n",
       "    </tr>\n",
       "    <tr>\n",
       "      <th>1</th>\n",
       "      <td>79248.642455</td>\n",
       "      <td>6.002900</td>\n",
       "      <td>6.730821</td>\n",
       "      <td>3.09</td>\n",
       "      <td>40173.072174</td>\n",
       "      <td>1.505891e+06</td>\n",
       "      <td>188 Johnson Views Suite 079\\nLake Kathleen, CA...</td>\n",
       "    </tr>\n",
       "    <tr>\n",
       "      <th>2</th>\n",
       "      <td>61287.067179</td>\n",
       "      <td>5.865890</td>\n",
       "      <td>8.512727</td>\n",
       "      <td>5.13</td>\n",
       "      <td>36882.159400</td>\n",
       "      <td>1.058988e+06</td>\n",
       "      <td>9127 Elizabeth Stravenue\\nDanieltown, WI 06482...</td>\n",
       "    </tr>\n",
       "    <tr>\n",
       "      <th>3</th>\n",
       "      <td>63345.240046</td>\n",
       "      <td>7.188236</td>\n",
       "      <td>5.586729</td>\n",
       "      <td>3.26</td>\n",
       "      <td>34310.242831</td>\n",
       "      <td>1.260617e+06</td>\n",
       "      <td>USS Barnett\\nFPO AP 44820</td>\n",
       "    </tr>\n",
       "    <tr>\n",
       "      <th>4</th>\n",
       "      <td>59982.197226</td>\n",
       "      <td>5.040555</td>\n",
       "      <td>7.839388</td>\n",
       "      <td>4.23</td>\n",
       "      <td>26354.109472</td>\n",
       "      <td>6.309435e+05</td>\n",
       "      <td>USNS Raymond\\nFPO AE 09386</td>\n",
       "    </tr>\n",
       "  </tbody>\n",
       "</table>\n",
       "</div>"
      ],
      "text/plain": [
       "   Avg. Area Income  Avg. Area House Age  Avg. Area Number of Rooms  \\\n",
       "0      79545.458574             5.682861                   7.009188   \n",
       "1      79248.642455             6.002900                   6.730821   \n",
       "2      61287.067179             5.865890                   8.512727   \n",
       "3      63345.240046             7.188236                   5.586729   \n",
       "4      59982.197226             5.040555                   7.839388   \n",
       "\n",
       "   Avg. Area Number of Bedrooms  Area Population         Price  \\\n",
       "0                          4.09     23086.800503  1.059034e+06   \n",
       "1                          3.09     40173.072174  1.505891e+06   \n",
       "2                          5.13     36882.159400  1.058988e+06   \n",
       "3                          3.26     34310.242831  1.260617e+06   \n",
       "4                          4.23     26354.109472  6.309435e+05   \n",
       "\n",
       "                                             Address  \n",
       "0  208 Michael Ferry Apt. 674\\nLaurabury, NE 3701...  \n",
       "1  188 Johnson Views Suite 079\\nLake Kathleen, CA...  \n",
       "2  9127 Elizabeth Stravenue\\nDanieltown, WI 06482...  \n",
       "3                          USS Barnett\\nFPO AP 44820  \n",
       "4                         USNS Raymond\\nFPO AE 09386  "
      ]
     },
     "execution_count": 2,
     "metadata": {},
     "output_type": "execute_result"
    }
   ],
   "source": [
    "import pandas as pd\n",
    "import numpy as np\n",
    "\n",
    "data = pd.read_csv(\"./Data Files/USA_Housing.csv\")\n",
    "data.head()"
   ]
  },
  {
   "cell_type": "code",
   "execution_count": 3,
   "metadata": {
    "collapsed": false
   },
   "outputs": [
    {
     "data": {
      "text/plain": [
       "Index(['Avg. Area Income', 'Avg. Area House Age', 'Avg. Area Number of Rooms',\n",
       "       'Avg. Area Number of Bedrooms', 'Area Population', 'Price', 'Address'],\n",
       "      dtype='object')"
      ]
     },
     "execution_count": 3,
     "metadata": {},
     "output_type": "execute_result"
    }
   ],
   "source": [
    "data.columns"
   ]
  },
  {
   "cell_type": "markdown",
   "metadata": {},
   "source": [
    "#### Split data into an X DataFrame and y vector"
   ]
  },
  {
   "cell_type": "code",
   "execution_count": 4,
   "metadata": {
    "collapsed": true
   },
   "outputs": [],
   "source": [
    "X = data[['Avg. Area Income', 'Avg. Area House Age', 'Avg. Area Number of Rooms',\n",
    "       'Avg. Area Number of Bedrooms', 'Area Population']]\n",
    "y = data[\"Price\"]"
   ]
  },
  {
   "cell_type": "markdown",
   "metadata": {},
   "source": [
    "#### Split the data into a train_set and test_set"
   ]
  },
  {
   "cell_type": "code",
   "execution_count": 5,
   "metadata": {
    "collapsed": true
   },
   "outputs": [],
   "source": [
    "from sklearn.model_selection import train_test_split\n",
    "X_train, X_test, y_train, y_test = train_test_split(X, y, test_size = 0.2, random_state = 1111)"
   ]
  },
  {
   "cell_type": "markdown",
   "metadata": {},
   "source": [
    "#### Center and Scale X and y"
   ]
  },
  {
   "cell_type": "code",
   "execution_count": 6,
   "metadata": {
    "collapsed": false
   },
   "outputs": [],
   "source": [
    "X_train_scaled = X_train.copy()\n",
    "X_test_scaled = X_test.copy()\n",
    "for i in X_train.columns:\n",
    "    if X_train[i].dtypes in [\"float64\", \"int64\"]:\n",
    "        mean_X_train = X_train[i].mean()\n",
    "        std_X_train = X_train[i].std()\n",
    "        X_train_scaled[i] = (X_train[i] - mean_X_train) / std_X_train\n",
    "        X_test_scaled[i] = (X_test[i] - mean_X_train) / std_X_train\n",
    "mean_y_train = y_train.mean()\n",
    "std_y_train = y_train.std()\n",
    "y_train_scaled = (y_train - mean_y_train) / std_y_train\n",
    "y_test_scaled = (y_test - mean_y_train) / std_y_train"
   ]
  },
  {
   "cell_type": "markdown",
   "metadata": {},
   "source": [
    "#### Fit the base SVR Model"
   ]
  },
  {
   "cell_type": "code",
   "execution_count": 7,
   "metadata": {
    "collapsed": false
   },
   "outputs": [
    {
     "data": {
      "text/plain": [
       "SVR(C=1.0, cache_size=200, coef0=0.0, degree=3, epsilon=0.1, gamma='auto',\n",
       "  kernel='rbf', max_iter=-1, shrinking=True, tol=0.001, verbose=False)"
      ]
     },
     "execution_count": 7,
     "metadata": {},
     "output_type": "execute_result"
    }
   ],
   "source": [
    "from sklearn.svm import SVR\n",
    "svr_model = SVR()\n",
    "svr_model.fit(X_train_scaled, y_train_scaled)"
   ]
  },
  {
   "cell_type": "markdown",
   "metadata": {},
   "source": [
    "#### Predict base SVR model on Test Set"
   ]
  },
  {
   "cell_type": "code",
   "execution_count": 13,
   "metadata": {
    "collapsed": false
   },
   "outputs": [
    {
     "data": {
      "text/html": [
       "<div>\n",
       "<table border=\"1\" class=\"dataframe\">\n",
       "  <thead>\n",
       "    <tr style=\"text-align: right;\">\n",
       "      <th></th>\n",
       "      <th>Avg. Area Income</th>\n",
       "      <th>Avg. Area House Age</th>\n",
       "      <th>Avg. Area Number of Rooms</th>\n",
       "      <th>Avg. Area Number of Bedrooms</th>\n",
       "      <th>Area Population</th>\n",
       "      <th>Price</th>\n",
       "      <th>y_pred</th>\n",
       "      <th>Price_scaled</th>\n",
       "      <th>y_pred_scaled</th>\n",
       "    </tr>\n",
       "  </thead>\n",
       "  <tbody>\n",
       "    <tr>\n",
       "      <th>3652</th>\n",
       "      <td>65966.017208</td>\n",
       "      <td>7.876933</td>\n",
       "      <td>5.524962</td>\n",
       "      <td>3.30</td>\n",
       "      <td>42710.821809</td>\n",
       "      <td>1.342819e+06</td>\n",
       "      <td>1.440652e+06</td>\n",
       "      <td>0.319604</td>\n",
       "      <td>0.596530</td>\n",
       "    </tr>\n",
       "    <tr>\n",
       "      <th>1862</th>\n",
       "      <td>60288.475915</td>\n",
       "      <td>6.170239</td>\n",
       "      <td>7.014315</td>\n",
       "      <td>3.28</td>\n",
       "      <td>34651.072317</td>\n",
       "      <td>1.144938e+06</td>\n",
       "      <td>1.077881e+06</td>\n",
       "      <td>-0.240517</td>\n",
       "      <td>-0.430326</td>\n",
       "    </tr>\n",
       "    <tr>\n",
       "      <th>2766</th>\n",
       "      <td>53664.077704</td>\n",
       "      <td>4.415997</td>\n",
       "      <td>5.938396</td>\n",
       "      <td>2.19</td>\n",
       "      <td>57110.648936</td>\n",
       "      <td>9.962434e+05</td>\n",
       "      <td>9.084566e+05</td>\n",
       "      <td>-0.661410</td>\n",
       "      <td>-0.909898</td>\n",
       "    </tr>\n",
       "    <tr>\n",
       "      <th>4120</th>\n",
       "      <td>70169.710552</td>\n",
       "      <td>6.227945</td>\n",
       "      <td>7.651813</td>\n",
       "      <td>3.36</td>\n",
       "      <td>35197.384961</td>\n",
       "      <td>1.217022e+06</td>\n",
       "      <td>1.374008e+06</td>\n",
       "      <td>-0.036477</td>\n",
       "      <td>0.407887</td>\n",
       "    </tr>\n",
       "    <tr>\n",
       "      <th>3447</th>\n",
       "      <td>73092.741315</td>\n",
       "      <td>5.615460</td>\n",
       "      <td>6.524657</td>\n",
       "      <td>2.21</td>\n",
       "      <td>43509.458399</td>\n",
       "      <td>1.336172e+06</td>\n",
       "      <td>1.298685e+06</td>\n",
       "      <td>0.300790</td>\n",
       "      <td>0.194678</td>\n",
       "    </tr>\n",
       "  </tbody>\n",
       "</table>\n",
       "</div>"
      ],
      "text/plain": [
       "      Avg. Area Income  Avg. Area House Age  Avg. Area Number of Rooms  \\\n",
       "3652      65966.017208             7.876933                   5.524962   \n",
       "1862      60288.475915             6.170239                   7.014315   \n",
       "2766      53664.077704             4.415997                   5.938396   \n",
       "4120      70169.710552             6.227945                   7.651813   \n",
       "3447      73092.741315             5.615460                   6.524657   \n",
       "\n",
       "      Avg. Area Number of Bedrooms  Area Population         Price  \\\n",
       "3652                          3.30     42710.821809  1.342819e+06   \n",
       "1862                          3.28     34651.072317  1.144938e+06   \n",
       "2766                          2.19     57110.648936  9.962434e+05   \n",
       "4120                          3.36     35197.384961  1.217022e+06   \n",
       "3447                          2.21     43509.458399  1.336172e+06   \n",
       "\n",
       "            y_pred  Price_scaled  y_pred_scaled  \n",
       "3652  1.440652e+06      0.319604       0.596530  \n",
       "1862  1.077881e+06     -0.240517      -0.430326  \n",
       "2766  9.084566e+05     -0.661410      -0.909898  \n",
       "4120  1.374008e+06     -0.036477       0.407887  \n",
       "3447  1.298685e+06      0.300790       0.194678  "
      ]
     },
     "execution_count": 13,
     "metadata": {},
     "output_type": "execute_result"
    }
   ],
   "source": [
    "y_pred_scaled = svr_model.predict(X_test_scaled)\n",
    "y_pred = y_pred_scaled * std_y_train + mean_y_train\n",
    "pred_summary = X_test.copy()\n",
    "pred_summary[y.name] = y_test\n",
    "pred_summary[\"y_pred\"] = y_pred\n",
    "pred_summary[y.name + \"_scaled\"] = y_test_scaled  # dependent variable scaled\n",
    "pred_summary[\"y_pred_scaled\"] = y_pred_scaled\n",
    "pred_summary.head()"
   ]
  },
  {
   "cell_type": "markdown",
   "metadata": {},
   "source": [
    "#### Evaluate the Model"
   ]
  },
  {
   "cell_type": "code",
   "execution_count": 17,
   "metadata": {
    "collapsed": false
   },
   "outputs": [
    {
     "name": "stdout",
     "output_type": "stream",
     "text": [
      "MSE: 10905562234.9\n",
      "RMSE: 104429.699966\n",
      "Explained Variance: 0.91\n"
     ]
    }
   ],
   "source": [
    "from sklearn import metrics\n",
    "print(\"MSE:\", metrics.mean_squared_error(y_test, y_pred))\n",
    "print(\"RMSE:\", np.sqrt(metrics.mean_squared_error(y_test, y_pred)))\n",
    "print(\"Explained Variance:\", round(metrics.explained_variance_score(y_test, y_pred), 2))"
   ]
  },
  {
   "cell_type": "markdown",
   "metadata": {},
   "source": [
    "#### Use Cross Validation to tune the C and gamma parameters \n",
    "(This can take a long time... current setup is approximately 30 minutes)"
   ]
  },
  {
   "cell_type": "code",
   "execution_count": 18,
   "metadata": {
    "collapsed": false
   },
   "outputs": [
    {
     "name": "stdout",
     "output_type": "stream",
     "text": [
      "Fitting 3 folds for each of 25 candidates, totalling 75 fits\n",
      "[CV] C=0.1, epsilon=1 ................................................\n",
      "[CV] ................................. C=0.1, epsilon=1, total=   0.0s\n",
      "[CV] C=0.1, epsilon=1 ................................................\n",
      "[CV] ................................. C=0.1, epsilon=1, total=   0.0s\n",
      "[CV] C=0.1, epsilon=1 ................................................\n",
      "[CV] ................................. C=0.1, epsilon=1, total=   0.0s\n",
      "[CV] C=0.1, epsilon=0.1 ..............................................\n"
     ]
    },
    {
     "name": "stderr",
     "output_type": "stream",
     "text": [
      "[Parallel(n_jobs=1)]: Done   1 out of   1 | elapsed:    0.0s remaining:    0.0s\n"
     ]
    },
    {
     "name": "stdout",
     "output_type": "stream",
     "text": [
      "[CV] ............................... C=0.1, epsilon=0.1, total=   0.3s\n",
      "[CV] C=0.1, epsilon=0.1 ..............................................\n",
      "[CV] ............................... C=0.1, epsilon=0.1, total=   0.3s\n",
      "[CV] C=0.1, epsilon=0.1 ..............................................\n",
      "[CV] ............................... C=0.1, epsilon=0.1, total=   0.3s\n",
      "[CV] C=0.1, epsilon=0.01 .............................................\n",
      "[CV] .............................. C=0.1, epsilon=0.01, total=   0.4s\n",
      "[CV] C=0.1, epsilon=0.01 .............................................\n",
      "[CV] .............................. C=0.1, epsilon=0.01, total=   0.4s\n",
      "[CV] C=0.1, epsilon=0.01 .............................................\n",
      "[CV] .............................. C=0.1, epsilon=0.01, total=   0.4s\n",
      "[CV] C=0.1, epsilon=0.001 ............................................\n",
      "[CV] ............................. C=0.1, epsilon=0.001, total=   0.4s\n",
      "[CV] C=0.1, epsilon=0.001 ............................................\n",
      "[CV] ............................. C=0.1, epsilon=0.001, total=   0.4s\n",
      "[CV] C=0.1, epsilon=0.001 ............................................\n",
      "[CV] ............................. C=0.1, epsilon=0.001, total=   0.4s\n",
      "[CV] C=0.1, epsilon=0.0001 ...........................................\n",
      "[CV] ............................ C=0.1, epsilon=0.0001, total=   0.4s\n",
      "[CV] C=0.1, epsilon=0.0001 ...........................................\n",
      "[CV] ............................ C=0.1, epsilon=0.0001, total=   0.4s\n",
      "[CV] C=0.1, epsilon=0.0001 ...........................................\n",
      "[CV] ............................ C=0.1, epsilon=0.0001, total=   0.4s\n",
      "[CV] C=1, epsilon=1 ..................................................\n",
      "[CV] ................................... C=1, epsilon=1, total=   0.0s\n",
      "[CV] C=1, epsilon=1 ..................................................\n",
      "[CV] ................................... C=1, epsilon=1, total=   0.0s\n",
      "[CV] C=1, epsilon=1 ..................................................\n",
      "[CV] ................................... C=1, epsilon=1, total=   0.0s\n",
      "[CV] C=1, epsilon=0.1 ................................................\n",
      "[CV] ................................. C=1, epsilon=0.1, total=   0.4s\n",
      "[CV] C=1, epsilon=0.1 ................................................\n",
      "[CV] ................................. C=1, epsilon=0.1, total=   0.4s\n",
      "[CV] C=1, epsilon=0.1 ................................................\n",
      "[CV] ................................. C=1, epsilon=0.1, total=   0.4s\n",
      "[CV] C=1, epsilon=0.01 ...............................................\n",
      "[CV] ................................ C=1, epsilon=0.01, total=   0.4s\n",
      "[CV] C=1, epsilon=0.01 ...............................................\n",
      "[CV] ................................ C=1, epsilon=0.01, total=   0.4s\n",
      "[CV] C=1, epsilon=0.01 ...............................................\n",
      "[CV] ................................ C=1, epsilon=0.01, total=   0.5s\n",
      "[CV] C=1, epsilon=0.001 ..............................................\n",
      "[CV] ............................... C=1, epsilon=0.001, total=   0.5s\n",
      "[CV] C=1, epsilon=0.001 ..............................................\n",
      "[CV] ............................... C=1, epsilon=0.001, total=   0.5s\n",
      "[CV] C=1, epsilon=0.001 ..............................................\n",
      "[CV] ............................... C=1, epsilon=0.001, total=   0.5s\n",
      "[CV] C=1, epsilon=0.0001 .............................................\n",
      "[CV] .............................. C=1, epsilon=0.0001, total=   0.5s\n",
      "[CV] C=1, epsilon=0.0001 .............................................\n",
      "[CV] .............................. C=1, epsilon=0.0001, total=   0.5s\n",
      "[CV] C=1, epsilon=0.0001 .............................................\n",
      "[CV] .............................. C=1, epsilon=0.0001, total=   0.5s\n",
      "[CV] C=10, epsilon=1 .................................................\n",
      "[CV] .................................. C=10, epsilon=1, total=   0.0s\n",
      "[CV] C=10, epsilon=1 .................................................\n",
      "[CV] .................................. C=10, epsilon=1, total=   0.0s\n",
      "[CV] C=10, epsilon=1 .................................................\n",
      "[CV] .................................. C=10, epsilon=1, total=   0.0s\n",
      "[CV] C=10, epsilon=0.1 ...............................................\n",
      "[CV] ................................ C=10, epsilon=0.1, total=   1.0s\n",
      "[CV] C=10, epsilon=0.1 ...............................................\n",
      "[CV] ................................ C=10, epsilon=0.1, total=   1.0s\n",
      "[CV] C=10, epsilon=0.1 ...............................................\n",
      "[CV] ................................ C=10, epsilon=0.1, total=   1.0s\n",
      "[CV] C=10, epsilon=0.01 ..............................................\n",
      "[CV] ............................... C=10, epsilon=0.01, total=   1.3s\n",
      "[CV] C=10, epsilon=0.01 ..............................................\n",
      "[CV] ............................... C=10, epsilon=0.01, total=   1.4s\n",
      "[CV] C=10, epsilon=0.01 ..............................................\n",
      "[CV] ............................... C=10, epsilon=0.01, total=   1.2s\n",
      "[CV] C=10, epsilon=0.001 .............................................\n",
      "[CV] .............................. C=10, epsilon=0.001, total=   1.3s\n",
      "[CV] C=10, epsilon=0.001 .............................................\n",
      "[CV] .............................. C=10, epsilon=0.001, total=   1.4s\n",
      "[CV] C=10, epsilon=0.001 .............................................\n",
      "[CV] .............................. C=10, epsilon=0.001, total=   1.3s\n",
      "[CV] C=10, epsilon=0.0001 ............................................\n",
      "[CV] ............................. C=10, epsilon=0.0001, total=   1.5s\n",
      "[CV] C=10, epsilon=0.0001 ............................................\n",
      "[CV] ............................. C=10, epsilon=0.0001, total=   1.6s\n",
      "[CV] C=10, epsilon=0.0001 ............................................\n",
      "[CV] ............................. C=10, epsilon=0.0001, total=   1.4s\n",
      "[CV] C=100, epsilon=1 ................................................\n",
      "[CV] ................................. C=100, epsilon=1, total=   0.0s\n",
      "[CV] C=100, epsilon=1 ................................................\n",
      "[CV] ................................. C=100, epsilon=1, total=   0.0s\n",
      "[CV] C=100, epsilon=1 ................................................\n",
      "[CV] ................................. C=100, epsilon=1, total=   0.0s\n",
      "[CV] C=100, epsilon=0.1 ..............................................\n",
      "[CV] ............................... C=100, epsilon=0.1, total=   7.4s\n",
      "[CV] C=100, epsilon=0.1 ..............................................\n",
      "[CV] ............................... C=100, epsilon=0.1, total=   7.5s\n",
      "[CV] C=100, epsilon=0.1 ..............................................\n",
      "[CV] ............................... C=100, epsilon=0.1, total=   6.6s\n",
      "[CV] C=100, epsilon=0.01 .............................................\n",
      "[CV] .............................. C=100, epsilon=0.01, total=   9.8s\n",
      "[CV] C=100, epsilon=0.01 .............................................\n",
      "[CV] .............................. C=100, epsilon=0.01, total=  10.1s\n",
      "[CV] C=100, epsilon=0.01 .............................................\n",
      "[CV] .............................. C=100, epsilon=0.01, total=  10.1s\n",
      "[CV] C=100, epsilon=0.001 ............................................\n",
      "[CV] ............................. C=100, epsilon=0.001, total=  11.8s\n",
      "[CV] C=100, epsilon=0.001 ............................................\n",
      "[CV] ............................. C=100, epsilon=0.001, total=  12.7s\n",
      "[CV] C=100, epsilon=0.001 ............................................\n",
      "[CV] ............................. C=100, epsilon=0.001, total=  11.5s\n",
      "[CV] C=100, epsilon=0.0001 ...........................................\n",
      "[CV] ............................ C=100, epsilon=0.0001, total=  13.9s\n",
      "[CV] C=100, epsilon=0.0001 ...........................................\n",
      "[CV] ............................ C=100, epsilon=0.0001, total=  15.8s\n",
      "[CV] C=100, epsilon=0.0001 ...........................................\n",
      "[CV] ............................ C=100, epsilon=0.0001, total=  12.9s\n",
      "[CV] C=1000, epsilon=1 ...............................................\n",
      "[CV] ................................ C=1000, epsilon=1, total=   0.0s\n",
      "[CV] C=1000, epsilon=1 ...............................................\n",
      "[CV] ................................ C=1000, epsilon=1, total=   0.0s\n",
      "[CV] C=1000, epsilon=1 ...............................................\n",
      "[CV] ................................ C=1000, epsilon=1, total=   0.0s\n",
      "[CV] C=1000, epsilon=0.1 .............................................\n",
      "[CV] .............................. C=1000, epsilon=0.1, total= 1.6min\n",
      "[CV] C=1000, epsilon=0.1 .............................................\n",
      "[CV] .............................. C=1000, epsilon=0.1, total= 1.7min\n",
      "[CV] C=1000, epsilon=0.1 .............................................\n",
      "[CV] .............................. C=1000, epsilon=0.1, total= 1.7min\n",
      "[CV] C=1000, epsilon=0.01 ............................................\n",
      "[CV] ............................. C=1000, epsilon=0.01, total= 1.9min\n",
      "[CV] C=1000, epsilon=0.01 ............................................\n",
      "[CV] ............................. C=1000, epsilon=0.01, total= 1.9min\n",
      "[CV] C=1000, epsilon=0.01 ............................................\n",
      "[CV] ............................. C=1000, epsilon=0.01, total= 1.8min\n",
      "[CV] C=1000, epsilon=0.001 ...........................................\n",
      "[CV] ............................ C=1000, epsilon=0.001, total= 2.1min\n",
      "[CV] C=1000, epsilon=0.001 ...........................................\n",
      "[CV] ............................ C=1000, epsilon=0.001, total= 2.3min\n",
      "[CV] C=1000, epsilon=0.001 ...........................................\n",
      "[CV] ............................ C=1000, epsilon=0.001, total= 1.9min\n",
      "[CV] C=1000, epsilon=0.0001 ..........................................\n",
      "[CV] ........................... C=1000, epsilon=0.0001, total= 2.5min\n",
      "[CV] C=1000, epsilon=0.0001 ..........................................\n",
      "[CV] ........................... C=1000, epsilon=0.0001, total= 2.3min\n",
      "[CV] C=1000, epsilon=0.0001 ..........................................\n",
      "[CV] ........................... C=1000, epsilon=0.0001, total= 2.2min\n"
     ]
    },
    {
     "name": "stderr",
     "output_type": "stream",
     "text": [
      "[Parallel(n_jobs=1)]: Done  75 out of  75 | elapsed: 26.7min finished\n"
     ]
    },
    {
     "data": {
      "text/plain": [
       "GridSearchCV(cv=None, error_score='raise',\n",
       "       estimator=SVR(C=1.0, cache_size=200, coef0=0.0, degree=3, epsilon=0.1, gamma='auto',\n",
       "  kernel='rbf', max_iter=-1, shrinking=True, tol=0.001, verbose=False),\n",
       "       fit_params={}, iid=True, n_jobs=1,\n",
       "       param_grid={'C': [0.1, 1, 10, 100, 1000], 'epsilon': [1, 0.1, 0.01, 0.001, 0.0001]},\n",
       "       pre_dispatch='2*n_jobs', refit=True, return_train_score=True,\n",
       "       scoring=None, verbose=2)"
      ]
     },
     "execution_count": 18,
     "metadata": {},
     "output_type": "execute_result"
    }
   ],
   "source": [
    "from sklearn.model_selection import GridSearchCV\n",
    "param_grid = {\"C\": [0.1, 1, 10, 100, 1000],  # Adjust these values over and over\n",
    "              \"epsilon\": [1, 0.1, 0.01, 0.001, 0.0001]}\n",
    "grid = GridSearchCV(SVR(), param_grid, verbose = 2)\n",
    "grid.fit(X_train_scaled, y_train_scaled)"
   ]
  },
  {
   "cell_type": "code",
   "execution_count": 19,
   "metadata": {
    "collapsed": false
   },
   "outputs": [
    {
     "data": {
      "text/plain": [
       "{'C': 1, 'epsilon': 0.1}"
      ]
     },
     "execution_count": 19,
     "metadata": {},
     "output_type": "execute_result"
    }
   ],
   "source": [
    "grid.best_params_"
   ]
  },
  {
   "cell_type": "markdown",
   "metadata": {},
   "source": [
    "#### Predict on test set using new parameters"
   ]
  },
  {
   "cell_type": "code",
   "execution_count": 20,
   "metadata": {
    "collapsed": false
   },
   "outputs": [
    {
     "data": {
      "text/html": [
       "<div>\n",
       "<table border=\"1\" class=\"dataframe\">\n",
       "  <thead>\n",
       "    <tr style=\"text-align: right;\">\n",
       "      <th></th>\n",
       "      <th>Avg. Area Income</th>\n",
       "      <th>Avg. Area House Age</th>\n",
       "      <th>Avg. Area Number of Rooms</th>\n",
       "      <th>Avg. Area Number of Bedrooms</th>\n",
       "      <th>Area Population</th>\n",
       "      <th>Price</th>\n",
       "      <th>y_pred</th>\n",
       "      <th>Price_scaled</th>\n",
       "      <th>y_pred_scaled</th>\n",
       "    </tr>\n",
       "  </thead>\n",
       "  <tbody>\n",
       "    <tr>\n",
       "      <th>3652</th>\n",
       "      <td>65966.017208</td>\n",
       "      <td>7.876933</td>\n",
       "      <td>5.524962</td>\n",
       "      <td>3.30</td>\n",
       "      <td>42710.821809</td>\n",
       "      <td>1.342819e+06</td>\n",
       "      <td>1.440652e+06</td>\n",
       "      <td>0.319604</td>\n",
       "      <td>0.596530</td>\n",
       "    </tr>\n",
       "    <tr>\n",
       "      <th>1862</th>\n",
       "      <td>60288.475915</td>\n",
       "      <td>6.170239</td>\n",
       "      <td>7.014315</td>\n",
       "      <td>3.28</td>\n",
       "      <td>34651.072317</td>\n",
       "      <td>1.144938e+06</td>\n",
       "      <td>1.077881e+06</td>\n",
       "      <td>-0.240517</td>\n",
       "      <td>-0.430326</td>\n",
       "    </tr>\n",
       "    <tr>\n",
       "      <th>2766</th>\n",
       "      <td>53664.077704</td>\n",
       "      <td>4.415997</td>\n",
       "      <td>5.938396</td>\n",
       "      <td>2.19</td>\n",
       "      <td>57110.648936</td>\n",
       "      <td>9.962434e+05</td>\n",
       "      <td>9.084566e+05</td>\n",
       "      <td>-0.661410</td>\n",
       "      <td>-0.909898</td>\n",
       "    </tr>\n",
       "    <tr>\n",
       "      <th>4120</th>\n",
       "      <td>70169.710552</td>\n",
       "      <td>6.227945</td>\n",
       "      <td>7.651813</td>\n",
       "      <td>3.36</td>\n",
       "      <td>35197.384961</td>\n",
       "      <td>1.217022e+06</td>\n",
       "      <td>1.374008e+06</td>\n",
       "      <td>-0.036477</td>\n",
       "      <td>0.407887</td>\n",
       "    </tr>\n",
       "    <tr>\n",
       "      <th>3447</th>\n",
       "      <td>73092.741315</td>\n",
       "      <td>5.615460</td>\n",
       "      <td>6.524657</td>\n",
       "      <td>2.21</td>\n",
       "      <td>43509.458399</td>\n",
       "      <td>1.336172e+06</td>\n",
       "      <td>1.298685e+06</td>\n",
       "      <td>0.300790</td>\n",
       "      <td>0.194678</td>\n",
       "    </tr>\n",
       "  </tbody>\n",
       "</table>\n",
       "</div>"
      ],
      "text/plain": [
       "      Avg. Area Income  Avg. Area House Age  Avg. Area Number of Rooms  \\\n",
       "3652      65966.017208             7.876933                   5.524962   \n",
       "1862      60288.475915             6.170239                   7.014315   \n",
       "2766      53664.077704             4.415997                   5.938396   \n",
       "4120      70169.710552             6.227945                   7.651813   \n",
       "3447      73092.741315             5.615460                   6.524657   \n",
       "\n",
       "      Avg. Area Number of Bedrooms  Area Population         Price  \\\n",
       "3652                          3.30     42710.821809  1.342819e+06   \n",
       "1862                          3.28     34651.072317  1.144938e+06   \n",
       "2766                          2.19     57110.648936  9.962434e+05   \n",
       "4120                          3.36     35197.384961  1.217022e+06   \n",
       "3447                          2.21     43509.458399  1.336172e+06   \n",
       "\n",
       "            y_pred  Price_scaled  y_pred_scaled  \n",
       "3652  1.440652e+06      0.319604       0.596530  \n",
       "1862  1.077881e+06     -0.240517      -0.430326  \n",
       "2766  9.084566e+05     -0.661410      -0.909898  \n",
       "4120  1.374008e+06     -0.036477       0.407887  \n",
       "3447  1.298685e+06      0.300790       0.194678  "
      ]
     },
     "execution_count": 20,
     "metadata": {},
     "output_type": "execute_result"
    }
   ],
   "source": [
    "grid_pred_scaled = grid.predict(X_test_scaled)\n",
    "grid_pred = grid_pred_scaled * std_y_train + mean_y_train\n",
    "grid_summary = X_test.copy()\n",
    "grid_summary[y.name] = y_test\n",
    "grid_summary[\"y_pred\"] = grid_pred\n",
    "grid_summary[y.name + \"_scaled\"] = y_test_scaled\n",
    "grid_summary[\"y_pred_scaled\"] = grid_pred_scaled\n",
    "grid_summary.head()"
   ]
  },
  {
   "cell_type": "markdown",
   "metadata": {},
   "source": [
    "#### Evaluate the model using new parameters"
   ]
  },
  {
   "cell_type": "code",
   "execution_count": 21,
   "metadata": {
    "collapsed": false
   },
   "outputs": [
    {
     "name": "stdout",
     "output_type": "stream",
     "text": [
      "MSE: 10905562234.9\n",
      "RMSE: 104429.699966\n",
      "Explained Variance: 0.91\n"
     ]
    }
   ],
   "source": [
    "from sklearn import metrics\n",
    "print(\"MSE:\", metrics.mean_squared_error(y_test, grid_pred))\n",
    "print(\"RMSE:\", np.sqrt(metrics.mean_squared_error(y_test, grid_pred)))\n",
    "print(\"Explained Variance:\", round(metrics.explained_variance_score(y_test, grid_pred), 2))"
   ]
  },
  {
   "cell_type": "code",
   "execution_count": null,
   "metadata": {
    "collapsed": true
   },
   "outputs": [],
   "source": []
  }
 ],
 "metadata": {
  "kernelspec": {
   "display_name": "Python 3",
   "language": "python",
   "name": "python3"
  },
  "language_info": {
   "codemirror_mode": {
    "name": "ipython",
    "version": 3
   },
   "file_extension": ".py",
   "mimetype": "text/x-python",
   "name": "python",
   "nbconvert_exporter": "python",
   "pygments_lexer": "ipython3",
   "version": "3.6.0"
  }
 },
 "nbformat": 4,
 "nbformat_minor": 2
}
