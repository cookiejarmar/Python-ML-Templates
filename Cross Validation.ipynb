{
 "cells": [
  {
   "cell_type": "markdown",
   "metadata": {},
   "source": [
    "# Cross Validation"
   ]
  },
  {
   "cell_type": "markdown",
   "metadata": {},
   "source": [
    "#### Load the packages, import the data, pre-process the data, and run the model\n",
    "Example using L2 Logistic Regression"
   ]
  },
  {
   "cell_type": "code",
   "execution_count": 4,
   "metadata": {
    "collapsed": false
   },
   "outputs": [],
   "source": [
    "import pandas as pd\n",
    "import numpy as np\n",
    "\n",
    "data = pd.read_csv(\"./Data Files/Log_Reg_Sample_File.csv\")\n",
    "\n",
    "X = data[['Daily Time Spent on Site', 'Age', 'Area Income',\n",
    "       'Daily Internet Usage', 'Gender']]\n",
    "y = data[\"Clicked on Ad\"]\n",
    "\n",
    "X_dummies = pd.get_dummies(X[[\"Gender\"]], drop_first = True)\n",
    "X = pd.concat([X, X_dummies], axis = 1)\n",
    "X = X.drop([\"Gender\"], axis = 1)\n",
    "\n",
    "from sklearn.model_selection import train_test_split\n",
    "X_train, X_test, y_train, y_test = train_test_split(X, y, test_size = 0.3, random_state = 1111)\n",
    "\n",
    "from sklearn.linear_model import LogisticRegression\n",
    "log_model = LogisticRegression()\n",
    "log_model.fit(X_train, y_train)\n",
    "\n",
    "y_pred = log_model.predict(X_test)"
   ]
  },
  {
   "cell_type": "markdown",
   "metadata": {},
   "source": [
    "#### Evaluate the Model using Classication Report"
   ]
  },
  {
   "cell_type": "code",
   "execution_count": 5,
   "metadata": {
    "collapsed": false
   },
   "outputs": [
    {
     "name": "stdout",
     "output_type": "stream",
     "text": [
      "Base Logistic Regression Model (L2) \n",
      "\n",
      "     0    1\n",
      "0  141    9\n",
      "1   25  125       Accuracy: 0.887 \n",
      "\n",
      "             precision    recall  f1-score   support\n",
      "\n",
      "         No       0.85      0.94      0.89       150\n",
      "        Yes       0.93      0.83      0.88       150\n",
      "\n",
      "avg / total       0.89      0.89      0.89       300\n",
      "\n"
     ]
    }
   ],
   "source": [
    "from sklearn.metrics import confusion_matrix, accuracy_score, classification_report\n",
    "\n",
    "print(\"Base Logistic Regression Model (L2)\", \"\\n\")\n",
    "print(pd.DataFrame(confusion_matrix(y_test, y_pred)), \n",
    "      \"      Accuracy:\", round(accuracy_score(y_test, y_pred), 3), \n",
    "      \"\\n\")\n",
    "print(classification_report(y_test, y_pred))"
   ]
  },
  {
   "cell_type": "markdown",
   "metadata": {},
   "source": [
    "#### Evaluate the Model using K-Fold Cross Validation"
   ]
  },
  {
   "cell_type": "code",
   "execution_count": 22,
   "metadata": {
    "collapsed": false
   },
   "outputs": [
    {
     "name": "stdout",
     "output_type": "stream",
     "text": [
      "Base Logistic Regression Model (L2) Cross Validation Results \n",
      "\n",
      "Avg. Accuracy: 0.9\n"
     ]
    }
   ],
   "source": [
    "from sklearn.model_selection import cross_val_score\n",
    "\n",
    "cv_results = cross_val_score(log_model, X_train, y_train,\n",
    "                             cv = 10, n_jobs = -1)\n",
    "\n",
    "print(\"Base Logistic Regression Model (L2) Cross Validation Results\", \"\\n\")\n",
    "print(\"Avg. Accuracy:\", round(cv_results.mean(), 3))"
   ]
  },
  {
   "cell_type": "code",
   "execution_count": null,
   "metadata": {
    "collapsed": true
   },
   "outputs": [],
   "source": []
  }
 ],
 "metadata": {
  "kernelspec": {
   "display_name": "Python 3",
   "language": "python",
   "name": "python3"
  },
  "language_info": {
   "codemirror_mode": {
    "name": "ipython",
    "version": 3
   },
   "file_extension": ".py",
   "mimetype": "text/x-python",
   "name": "python",
   "nbconvert_exporter": "python",
   "pygments_lexer": "ipython3",
   "version": "3.6.0"
  }
 },
 "nbformat": 4,
 "nbformat_minor": 2
}
